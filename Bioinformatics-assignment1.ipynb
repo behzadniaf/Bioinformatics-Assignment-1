{
 "cells": [
  {
   "cell_type": "markdown",
   "id": "a8356d2e",
   "metadata": {},
   "source": [
    "Question 1. Exercise 1, Chapter-SM: For the DNA sequence ACGCTGA,\n",
    "(i) determine the number of mononucleotide permutations;\n",
    "\n",
    "answer: - 7!/2!2!2!1!= 7* 6* 5* 4* 3* 2* 1/2* 2* 2=630 mononucleotide permutationd\n",
    "\n",
    "(ii) find all dinucleotide permutations that also preserve the mononucleotide composition.\n",
    "\n",
    "answer: - By drawing a graph (-->A2C,C2G,G2C,C2T,T2G,G2A -->) I found two dinuleotide permutation that preserve the mononucleotide composition:\n",
    "- ACGCTGA   and  - ACTGCGA\n",
    "\n",
    "(iii) Can you find additional dinucleotide permutations that do not preserve the mononucleotide\n",
    "composition? Explain in general if and when that might be possible.\n",
    "\n",
    "answer: - Yes, Any permutation of original sequence that preserves both the marginal dinucleotide and mononucleotide counts must start and end with the letters that are at the beginning and end of the original sequence (here A and A), but we can start and end with other letters when we want to find dinucleotide permutations that do not preserve the mononucleotide composition. It is possible for this sequence that starts and ends with (A) and by using a graph (A2C,C2G,G2C,C2T,T2G,G2A) we could have following dinucleotide permutations that do not preserve the mononucleotide composition:\n",
    "- CTGACGC, GACTGCG and TGACGCT which do not preserve the mononucleotide permutation.(For example in CTGACGC we have 3C,2G,1A,1T and in original sequence we have 2C,2G,2A,1T, so CTGACGC cannot also preserve mononucleotide permutation and it is the same for GACTGCG and TGACGCT)\n"
   ]
  },
  {
   "cell_type": "markdown",
   "id": "a9783cc6",
   "metadata": {},
   "source": [
    "Question 2) Consider random sequences over the alphabet {R, Y}, where in each position R is drawn with probability p, and Y is drawn with probability q = 1-p.\n",
    "\n",
    "(i)   Determine the expected waiting time to pattern RR as a function of the parameter p. [2 pnts]\n",
    "(ii)  Determine the expected waiting time to pattern RY as a function of the parameter p. [2 pnts]\n",
    "(iii) Calculate the expected waiting times in (i) and (ii) for the cases p=0.5 and p=0.75. Interpret your results. [2 pnts]\n",
    "(iv)  Submit code to your github site (see below) that determines the mean waiting times in randomly generated sequences. Compare the results with your values determined in (iii). [4 pnts]\n",
    "\n",
    "i) answer: States: R, Y, RR. Transitions: R2RR/p, R2Y/q, Y2Y/q, Y2R/p\n",
    "- w(R) = 1 + q* w(Y) , w(Y) = 1 + q* w(Y) + p* w(R)\n",
    "- w(Y) = A, w(R) = B = 1 + q* A\n",
    "- ==> A = 1 + q* A + p* B = 1 + q* A + p* (1+ q* A) = 1 + q* A + p + p* q* A\n",
    "- ==> A - q* A - p* q* A = 1+p\n",
    "- ==> A (1-q-p* q) = 1 + p , (q = 1 - p) ==> A= 1 + p / 1-1+p-p+p^2 = 1+ p/p^2\n",
    "- ==> w(Y)= 1+p/p^2\n",
    "- w(R) = 1 + q* w(Y) , (q = 1 - p) ==> w(R) = 1 + (1-p)* (1+p/p^2) = 1 + (1-p^2/p^2) = 1/p^2\n",
    "- ==> w(R) = 1/ p^2\n",
    "- w = 1 + p* w(R) + q* w(Y) = 1 + p* (1/ p^2) + (1 - p)* (1+p/p^2) = 1 + 1/p + (1-p^2/p^2)\n",
    "\n",
    "ii) answer: States: R, Y, RY. Transitions:  R2RY/q, R2R/p, Y2Y/q, Y2R/p\n",
    "- w(R)= 1+ p* w(R)  , w(Y)= 1+ p* w(R) + q* w(Y)\n",
    "- ==> w(R)= 1+ p* w(R)  ==> w(R) - p* w(R)=1  ==> w(R)* (1- p)=1\n",
    "- ==> w(R)= 1/(1-p)\n",
    "- w(Y)= 1+ p* (1/1-p) + q* w(Y) ==> w(Y) - q* w(Y)= 1+ (p/1-p) ==> w(Y)* (1-q)= 1+ (p/1-p) and (q = 1 - p)\n",
    "- ==>  w(Y)= (1+ (p/1-p))/1-(1-p)= (1-p+p/1-p)/p = 1/(p-p^2)\n",
    "- w = 1 + p* w(R) + q* w(Y) = 1 + p* (1/(1-p))+ q* (1/(p-p^2))= 1+ (p/(1-p)) + ((1-p)/(p-p^2))\n",
    "\n",
    "iii) answer: \n",
    "- waiting time in i: - when p=0.5\n",
    "- w=  1 + 1/p + (1-p^2/p^2)= 1+2+( 1- 0.25/0.25)= 3+(0.75/0.25)= 3+3=6\n",
    "- when p=0.75:\n",
    "- w= 1 + 1/p + (1-p^2/p^2)= 1+ 1/0.75 + (1-0.56/0.56)= 1+1.33+0.8= 3.1\n",
    "- waiting time in ii: when p=0.5:\n",
    "- w= 1+ (p/(1-p)) + ((1-p)/(p-p^2)) = 1+1+(0.5/0.25)=2+2= 4\n",
    "- waiting time in ii: when p=0.75:\n",
    "- w= 1+ (p/(1-p)) + ((1-p)/(p-p^2)) = 1+ (0.75/0.25)+ (0.25/0.19)=1+3+1.3= 5.3\n",
    "\n",
    "iv) The result that I got through the following codes are consistent with my answers.\n",
    "- for i (RR) when p=0.5 ==>q=0.5 , w=6 and by codes which produce mean waiting times in randomly generated sequences w=5.88 (6 and 5.88 are close)\n",
    "- For i when p=0.75 ==> q=0.25, w=3.1 and by codes w=3.66 (3.1 and 3.66 are close)\n",
    "- For ii (RY) when p=0.5 ==>q=0.5 , w=4 and by codes w=3.86 (4 and 3.86 are close)\n",
    "- For ii when p=0.75 ==> q=0.25, w=5.3 and by codes w=5.34 (5.3 and 5.34 are close)\n"
   ]
  },
  {
   "cell_type": "code",
   "execution_count": 1,
   "id": "d4e58713",
   "metadata": {},
   "outputs": [
    {
     "name": "stdout",
     "output_type": "stream",
     "text": [
      "5.88\n"
     ]
    }
   ],
   "source": [
    "import numpy as np\n",
    "from random import random\n",
    "def waiting_time(probability, pattern) :\n",
    "    pattern_size = len(pattern)\n",
    "    sequence =''\n",
    "    while len(sequence) < pattern_size or sequence[-pattern_size:] != pattern :\n",
    "        ran = random()\n",
    "        p = 0\n",
    "        for letter in probability :\n",
    "            p += probability[letter]\n",
    "            if ran<p:\n",
    "                sequence += letter\n",
    "                break\n",
    "    return len(sequence)\n",
    "# Composition\n",
    "probability = dict()\n",
    "probability['R']=0.5\n",
    "probability['Y']=0.5\n",
    "pattern = \"RR\"\n",
    "n = 50\n",
    "waiting_times = [waiting_time(probability, pattern) for i in range(n)]\n",
    "print(np.mean(waiting_times))"
   ]
  },
  {
   "cell_type": "code",
   "execution_count": 2,
   "id": "b25486b4",
   "metadata": {},
   "outputs": [
    {
     "name": "stdout",
     "output_type": "stream",
     "text": [
      "3.66\n"
     ]
    }
   ],
   "source": [
    "import numpy as np\n",
    "from random import random\n",
    "def waiting_time(probability, pattern) :\n",
    "    pattern_size = len(pattern)\n",
    "    sequence =''\n",
    "    while len(sequence) < pattern_size or sequence[-pattern_size:] != pattern :\n",
    "        ran = random()\n",
    "        p = 0\n",
    "        for letter in probability :\n",
    "            p += probability[letter]\n",
    "            if ran<p:\n",
    "                sequence += letter\n",
    "                break\n",
    "    return len(sequence)\n",
    "# Composition\n",
    "probability = dict()\n",
    "probability['R']=0.75\n",
    "probability['Y']=0.25\n",
    "pattern = \"RR\"\n",
    "n = 50\n",
    "waiting_times = [waiting_time(probability, pattern) for i in range(n)]\n",
    "print(np.mean(waiting_times))"
   ]
  },
  {
   "cell_type": "code",
   "execution_count": 3,
   "id": "9ba69762",
   "metadata": {},
   "outputs": [
    {
     "name": "stdout",
     "output_type": "stream",
     "text": [
      "3.86\n"
     ]
    }
   ],
   "source": [
    "import numpy as np\n",
    "from random import random\n",
    "def waiting_time(probability, pattern) :\n",
    "    pattern_size = len(pattern)\n",
    "    sequence =''\n",
    "    while len(sequence) < pattern_size or sequence[-pattern_size:] != pattern :\n",
    "        ran = random()\n",
    "        p = 0\n",
    "        for letter in probability :\n",
    "            p += probability[letter]\n",
    "            if ran<p:\n",
    "                sequence += letter\n",
    "                break\n",
    "    return len(sequence)\n",
    "# Composition\n",
    "probability = dict()\n",
    "probability['R']=0.5\n",
    "probability['Y']=0.5\n",
    "pattern = \"RY\"\n",
    "n = 50\n",
    "waiting_times = [waiting_time(probability, pattern) for i in range(n)]\n",
    "print(np.mean(waiting_times))"
   ]
  },
  {
   "cell_type": "code",
   "execution_count": 4,
   "id": "f393b7d2",
   "metadata": {},
   "outputs": [
    {
     "name": "stdout",
     "output_type": "stream",
     "text": [
      "5.34\n"
     ]
    }
   ],
   "source": [
    "import numpy as np\n",
    "from random import random\n",
    "def waiting_time(probability, pattern) :\n",
    "    pattern_size = len(pattern)\n",
    "    sequence =''\n",
    "    while len(sequence) < pattern_size or sequence[-pattern_size:] != pattern :\n",
    "        ran = random()\n",
    "        p = 0\n",
    "        for letter in probability :\n",
    "            p += probability[letter]\n",
    "            if ran<p:\n",
    "                sequence += letter\n",
    "                break\n",
    "    return len(sequence)\n",
    "# Composition\n",
    "probability = dict()\n",
    "probability['R']=0.75\n",
    "probability['Y']=0.25\n",
    "pattern = \"RY\"\n",
    "n = 50\n",
    "waiting_times = [waiting_time(probability, pattern) for i in range(n)]\n",
    "print(np.mean(waiting_times))"
   ]
  },
  {
   "cell_type": "code",
   "execution_count": null,
   "id": "5ed2a4d9",
   "metadata": {},
   "outputs": [],
   "source": []
  }
 ],
 "metadata": {
  "kernelspec": {
   "display_name": "Python 3 (ipykernel)",
   "language": "python",
   "name": "python3"
  },
  "language_info": {
   "codemirror_mode": {
    "name": "ipython",
    "version": 3
   },
   "file_extension": ".py",
   "mimetype": "text/x-python",
   "name": "python",
   "nbconvert_exporter": "python",
   "pygments_lexer": "ipython3",
   "version": "3.8.2"
  }
 },
 "nbformat": 4,
 "nbformat_minor": 5
}
